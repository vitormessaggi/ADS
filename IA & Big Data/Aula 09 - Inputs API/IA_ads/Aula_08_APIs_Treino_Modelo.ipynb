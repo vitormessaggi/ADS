{
 "cells": [
  {
   "cell_type": "markdown",
   "metadata": {
    "id": "9WprFLo4lXm4"
   },
   "source": [
    "**IA & Big Data**\n",
    "\n",
    "Prof. Miguel Bozer da Silva - miguel.bozer@senaisp.edu.br\n",
    "\n",
    "---"
   ]
  },
  {
   "cell_type": "code",
   "execution_count": 1,
   "metadata": {
    "id": "9rkFrb1qkKJJ"
   },
   "outputs": [],
   "source": [
    "# Tratamento dos dados\n",
    "import numpy as np\n",
    "import pandas as pd\n",
    "\n",
    "# Modelos de Machine Learning\n",
    "from sklearn.model_selection import train_test_split\n",
    "from sklearn.discriminant_analysis import QuadraticDiscriminantAnalysis, LinearDiscriminantAnalysis\n",
    "from sklearn.naive_bayes import GaussianNB\n",
    "from sklearn.svm import SVC\n",
    "\n",
    "from sklearn.preprocessing import StandardScaler, MinMaxScaler\n",
    "\n",
    "# Métricas de avaliação\n",
    "from sklearn.metrics import f1_score, roc_auc_score, roc_curve, ConfusionMatrixDisplay, RocCurveDisplay, confusion_matrix, classification_report\n",
    "\n",
    "# Plot dos gráficos\n",
    "import matplotlib.pyplot as plt\n",
    "from matplotlib import colors\n",
    "import seaborn as sns\n"
   ]
  },
  {
   "cell_type": "markdown",
   "metadata": {
    "id": "D7UlGWG5XKxh"
   },
   "source": [
    "Entrada do projeto:\n",
    "\n",
    "- buying:   vhigh, high, med, low. (Preço de Compra: muito alto - 4, alto - 3, médio - 2  e baixo - 1)\n",
    "- maint:    vhigh, high, med, low. (Preço da Manutenção: muito alto - 4, alto - 3, médio - 2  e baixo - 1)\n",
    "- doors:    2, 3, 4, 5more. (nº de portas: 2, 3, 4 e 5 ou mais)\n",
    "- persons:  2, 4, more. (nº de pessoas: 2, 4 e mais)\n",
    "- lug_boot: small, med, big. (tamanho do porta malas: pequeno, médio e grande)\n",
    "- safety:   low, med, high. (segurança estimada do carro: baixo, médio e alto)\n",
    "\n",
    "Saída do projeto:\n",
    "- category: unacceptable, acceptable, good, very good  (Categoria/Nível de avaliação: inaceitável, aceitável, bom e muito bom)"
   ]
  },
  {
   "cell_type": "markdown",
   "metadata": {
    "id": "sa3pqYhxl6xW"
   },
   "source": [
    "# Preparando os dados"
   ]
  },
  {
   "cell_type": "markdown",
   "metadata": {
    "id": "RbRI6SdWmOVC"
   },
   "source": [
    "## Tarefa #1: Recebendo os dados"
   ]
  },
  {
   "cell_type": "code",
   "execution_count": 2,
   "metadata": {
    "colab": {
     "base_uri": "https://localhost:8080/"
    },
    "id": "UtK8FTTZmPce",
    "outputId": "39c28bfe-4366-43dd-8c1a-26b9d3a0fed1"
   },
   "outputs": [],
   "source": [
    "dados = pd.read_csv(\"dados.csv\", sep = ',')"
   ]
  },
  {
   "cell_type": "markdown",
   "metadata": {
    "id": "7DmbnIPSmPg-"
   },
   "source": [
    "## Tarefa #2: Analise Exploratória dos Dados"
   ]
  },
  {
   "cell_type": "code",
   "execution_count": 3,
   "metadata": {
    "colab": {
     "base_uri": "https://localhost:8080/",
     "height": 206
    },
    "id": "zPfCcyKkmPlg",
    "outputId": "38f58493-a6ed-4419-c63f-a7019cdfe3ce"
   },
   "outputs": [
    {
     "data": {
      "text/html": [
       "<div>\n",
       "<style scoped>\n",
       "    .dataframe tbody tr th:only-of-type {\n",
       "        vertical-align: middle;\n",
       "    }\n",
       "\n",
       "    .dataframe tbody tr th {\n",
       "        vertical-align: top;\n",
       "    }\n",
       "\n",
       "    .dataframe thead th {\n",
       "        text-align: right;\n",
       "    }\n",
       "</style>\n",
       "<table border=\"1\" class=\"dataframe\">\n",
       "  <thead>\n",
       "    <tr style=\"text-align: right;\">\n",
       "      <th></th>\n",
       "      <th>Unnamed: 0</th>\n",
       "      <th>buying</th>\n",
       "      <th>maint</th>\n",
       "      <th>doors</th>\n",
       "      <th>persons</th>\n",
       "      <th>lug_boot</th>\n",
       "      <th>safety</th>\n",
       "      <th>category</th>\n",
       "    </tr>\n",
       "  </thead>\n",
       "  <tbody>\n",
       "    <tr>\n",
       "      <th>0</th>\n",
       "      <td>0</td>\n",
       "      <td>4.0</td>\n",
       "      <td>4.0</td>\n",
       "      <td>2</td>\n",
       "      <td>2</td>\n",
       "      <td>0.0</td>\n",
       "      <td>2.0</td>\n",
       "      <td>unacc</td>\n",
       "    </tr>\n",
       "    <tr>\n",
       "      <th>1</th>\n",
       "      <td>1</td>\n",
       "      <td>4.0</td>\n",
       "      <td>4.0</td>\n",
       "      <td>2</td>\n",
       "      <td>2</td>\n",
       "      <td>0.0</td>\n",
       "      <td>3.0</td>\n",
       "      <td>unacc</td>\n",
       "    </tr>\n",
       "    <tr>\n",
       "      <th>2</th>\n",
       "      <td>2</td>\n",
       "      <td>4.0</td>\n",
       "      <td>4.0</td>\n",
       "      <td>2</td>\n",
       "      <td>2</td>\n",
       "      <td>1.0</td>\n",
       "      <td>1.0</td>\n",
       "      <td>unacc</td>\n",
       "    </tr>\n",
       "    <tr>\n",
       "      <th>3</th>\n",
       "      <td>3</td>\n",
       "      <td>4.0</td>\n",
       "      <td>4.0</td>\n",
       "      <td>2</td>\n",
       "      <td>2</td>\n",
       "      <td>1.0</td>\n",
       "      <td>2.0</td>\n",
       "      <td>unacc</td>\n",
       "    </tr>\n",
       "    <tr>\n",
       "      <th>4</th>\n",
       "      <td>4</td>\n",
       "      <td>4.0</td>\n",
       "      <td>4.0</td>\n",
       "      <td>2</td>\n",
       "      <td>2</td>\n",
       "      <td>1.0</td>\n",
       "      <td>3.0</td>\n",
       "      <td>unacc</td>\n",
       "    </tr>\n",
       "  </tbody>\n",
       "</table>\n",
       "</div>"
      ],
      "text/plain": [
       "   Unnamed: 0  buying  maint doors persons  lug_boot  safety category\n",
       "0           0     4.0    4.0     2       2       0.0     2.0    unacc\n",
       "1           1     4.0    4.0     2       2       0.0     3.0    unacc\n",
       "2           2     4.0    4.0     2       2       1.0     1.0    unacc\n",
       "3           3     4.0    4.0     2       2       1.0     2.0    unacc\n",
       "4           4     4.0    4.0     2       2       1.0     3.0    unacc"
      ]
     },
     "execution_count": 3,
     "metadata": {},
     "output_type": "execute_result"
    }
   ],
   "source": [
    "dados.head()"
   ]
  },
  {
   "cell_type": "markdown",
   "metadata": {
    "id": "OXGH8IiZZpTb"
   },
   "source": [
    "A coluna `Unnamed: 0` tem apenas os números dos index do nosso conjunto de dados. Deveremos remover essa coluna."
   ]
  },
  {
   "cell_type": "code",
   "execution_count": 4,
   "metadata": {
    "colab": {
     "base_uri": "https://localhost:8080/"
    },
    "id": "Y1npEM48ZgmC",
    "outputId": "08dbebaa-8b45-41b2-b2d0-2c9198faa656"
   },
   "outputs": [
    {
     "data": {
      "text/plain": [
       "(4836, 8)"
      ]
     },
     "execution_count": 4,
     "metadata": {},
     "output_type": "execute_result"
    }
   ],
   "source": [
    "dados.shape"
   ]
  },
  {
   "cell_type": "code",
   "execution_count": 5,
   "metadata": {
    "colab": {
     "base_uri": "https://localhost:8080/"
    },
    "id": "mUZps8GfYhby",
    "outputId": "a47427e1-6fad-4def-945a-2a5786e9da94"
   },
   "outputs": [
    {
     "name": "stdout",
     "output_type": "stream",
     "text": [
      "<class 'pandas.core.frame.DataFrame'>\n",
      "RangeIndex: 4836 entries, 0 to 4835\n",
      "Data columns (total 8 columns):\n",
      " #   Column      Non-Null Count  Dtype  \n",
      "---  ------      --------------  -----  \n",
      " 0   Unnamed: 0  4836 non-null   int64  \n",
      " 1   buying      4813 non-null   float64\n",
      " 2   maint       4819 non-null   float64\n",
      " 3   doors       4824 non-null   object \n",
      " 4   persons     4821 non-null   object \n",
      " 5   lug_boot    4815 non-null   float64\n",
      " 6   safety      4819 non-null   float64\n",
      " 7   category    4816 non-null   object \n",
      "dtypes: float64(4), int64(1), object(3)\n",
      "memory usage: 302.4+ KB\n"
     ]
    }
   ],
   "source": [
    "dados.info()"
   ]
  },
  {
   "cell_type": "markdown",
   "metadata": {
    "id": "Ion9g2GfYl0Z"
   },
   "source": [
    "Temos colunas do tipo object. Além disso, segunda as informações obtidas do conjunto de dados temos diversas colunas que são categóricas mas que já estão convertidas em valores numéricos. Entretanto teremos que tratar as colunas que estão com valores object."
   ]
  },
  {
   "cell_type": "code",
   "execution_count": 6,
   "metadata": {
    "colab": {
     "base_uri": "https://localhost:8080/",
     "height": 335
    },
    "id": "j0fFAQ12Yjax",
    "outputId": "fb4725b8-125e-4df3-d5e3-5cb0903ef01c"
   },
   "outputs": [
    {
     "data": {
      "text/plain": [
       "Unnamed: 0     0\n",
       "buying        23\n",
       "maint         17\n",
       "doors         12\n",
       "persons       15\n",
       "lug_boot      21\n",
       "safety        17\n",
       "category      20\n",
       "dtype: int64"
      ]
     },
     "execution_count": 6,
     "metadata": {},
     "output_type": "execute_result"
    }
   ],
   "source": [
    "dados.isnull().sum()"
   ]
  },
  {
   "cell_type": "markdown",
   "metadata": {
    "id": "0nqtb0KiZZFT"
   },
   "source": [
    "Temos valores nulos no nosso conjunto de dados. Logo DEVEMOS fazer o tratamento disso removendo os valores nulos"
   ]
  },
  {
   "cell_type": "code",
   "execution_count": 7,
   "metadata": {
    "colab": {
     "base_uri": "https://localhost:8080/",
     "height": 300
    },
    "id": "RCabMfaBZkJC",
    "outputId": "68ed7487-64a1-47f8-ff3a-f1ab82da253c"
   },
   "outputs": [
    {
     "data": {
      "text/html": [
       "<div>\n",
       "<style scoped>\n",
       "    .dataframe tbody tr th:only-of-type {\n",
       "        vertical-align: middle;\n",
       "    }\n",
       "\n",
       "    .dataframe tbody tr th {\n",
       "        vertical-align: top;\n",
       "    }\n",
       "\n",
       "    .dataframe thead th {\n",
       "        text-align: right;\n",
       "    }\n",
       "</style>\n",
       "<table border=\"1\" class=\"dataframe\">\n",
       "  <thead>\n",
       "    <tr style=\"text-align: right;\">\n",
       "      <th></th>\n",
       "      <th>Unnamed: 0</th>\n",
       "      <th>buying</th>\n",
       "      <th>maint</th>\n",
       "      <th>lug_boot</th>\n",
       "      <th>safety</th>\n",
       "    </tr>\n",
       "  </thead>\n",
       "  <tbody>\n",
       "    <tr>\n",
       "      <th>count</th>\n",
       "      <td>4836.000000</td>\n",
       "      <td>4813.000000</td>\n",
       "      <td>4819.000000</td>\n",
       "      <td>4815.000000</td>\n",
       "      <td>4819.000000</td>\n",
       "    </tr>\n",
       "    <tr>\n",
       "      <th>mean</th>\n",
       "      <td>2417.500000</td>\n",
       "      <td>1.947434</td>\n",
       "      <td>2.048558</td>\n",
       "      <td>1.171547</td>\n",
       "      <td>2.428097</td>\n",
       "    </tr>\n",
       "    <tr>\n",
       "      <th>std</th>\n",
       "      <td>1396.177281</td>\n",
       "      <td>1.017072</td>\n",
       "      <td>1.018777</td>\n",
       "      <td>0.789985</td>\n",
       "      <td>0.694794</td>\n",
       "    </tr>\n",
       "    <tr>\n",
       "      <th>min</th>\n",
       "      <td>0.000000</td>\n",
       "      <td>1.000000</td>\n",
       "      <td>1.000000</td>\n",
       "      <td>0.000000</td>\n",
       "      <td>1.000000</td>\n",
       "    </tr>\n",
       "    <tr>\n",
       "      <th>25%</th>\n",
       "      <td>1208.750000</td>\n",
       "      <td>1.000000</td>\n",
       "      <td>1.000000</td>\n",
       "      <td>1.000000</td>\n",
       "      <td>2.000000</td>\n",
       "    </tr>\n",
       "    <tr>\n",
       "      <th>50%</th>\n",
       "      <td>2417.500000</td>\n",
       "      <td>2.000000</td>\n",
       "      <td>2.000000</td>\n",
       "      <td>1.000000</td>\n",
       "      <td>3.000000</td>\n",
       "    </tr>\n",
       "    <tr>\n",
       "      <th>75%</th>\n",
       "      <td>3626.250000</td>\n",
       "      <td>3.000000</td>\n",
       "      <td>3.000000</td>\n",
       "      <td>2.000000</td>\n",
       "      <td>3.000000</td>\n",
       "    </tr>\n",
       "    <tr>\n",
       "      <th>max</th>\n",
       "      <td>4835.000000</td>\n",
       "      <td>4.000000</td>\n",
       "      <td>4.000000</td>\n",
       "      <td>2.000000</td>\n",
       "      <td>3.000000</td>\n",
       "    </tr>\n",
       "  </tbody>\n",
       "</table>\n",
       "</div>"
      ],
      "text/plain": [
       "        Unnamed: 0       buying        maint     lug_boot       safety\n",
       "count  4836.000000  4813.000000  4819.000000  4815.000000  4819.000000\n",
       "mean   2417.500000     1.947434     2.048558     1.171547     2.428097\n",
       "std    1396.177281     1.017072     1.018777     0.789985     0.694794\n",
       "min       0.000000     1.000000     1.000000     0.000000     1.000000\n",
       "25%    1208.750000     1.000000     1.000000     1.000000     2.000000\n",
       "50%    2417.500000     2.000000     2.000000     1.000000     3.000000\n",
       "75%    3626.250000     3.000000     3.000000     2.000000     3.000000\n",
       "max    4835.000000     4.000000     4.000000     2.000000     3.000000"
      ]
     },
     "execution_count": 7,
     "metadata": {},
     "output_type": "execute_result"
    }
   ],
   "source": [
    "dados.describe()"
   ]
  },
  {
   "cell_type": "markdown",
   "metadata": {
    "id": "AoVrpXSQZ0fy"
   },
   "source": [
    "Todas as colunas possuem valores na mesma ordem de grandeza. Logo não haverá necessidade de transformar as escalas dos valores de cada coluna."
   ]
  },
  {
   "cell_type": "markdown",
   "metadata": {
    "id": "bhB3P3tRaESS"
   },
   "source": [
    "## Tarefa#3: Tratamento dos dados"
   ]
  },
  {
   "cell_type": "markdown",
   "metadata": {
    "id": "osV72Lj9aZCq"
   },
   "source": [
    "Removendo a coluna sem dados informativos:"
   ]
  },
  {
   "cell_type": "code",
   "execution_count": 8,
   "metadata": {
    "id": "22ZlaW9vaSD6"
   },
   "outputs": [],
   "source": [
    "dados.drop(columns=['Unnamed: 0'], inplace = True)"
   ]
  },
  {
   "cell_type": "markdown",
   "metadata": {
    "id": "9ezpF1GYadU6"
   },
   "source": [
    "Removendo os valores nulos:"
   ]
  },
  {
   "cell_type": "code",
   "execution_count": 9,
   "metadata": {
    "colab": {
     "base_uri": "https://localhost:8080/",
     "height": 303
    },
    "id": "7IHmi4ssafCq",
    "outputId": "c92993de-fc5c-4fc8-ff7d-e1b638565128"
   },
   "outputs": [
    {
     "data": {
      "text/plain": [
       "buying      0\n",
       "maint       0\n",
       "doors       0\n",
       "persons     0\n",
       "lug_boot    0\n",
       "safety      0\n",
       "category    0\n",
       "dtype: int64"
      ]
     },
     "execution_count": 9,
     "metadata": {},
     "output_type": "execute_result"
    }
   ],
   "source": [
    "dados.dropna(inplace=True)\n",
    "dados.isnull().sum()"
   ]
  },
  {
   "cell_type": "markdown",
   "metadata": {
    "id": "FYamOibtaMt6"
   },
   "source": [
    "Avaliando os valores únicos em cada coluna:"
   ]
  },
  {
   "cell_type": "code",
   "execution_count": 10,
   "metadata": {
    "colab": {
     "base_uri": "https://localhost:8080/"
    },
    "id": "DmPk4D-LaJoK",
    "outputId": "fb218eff-8729-4b23-83e3-04cdf82066df"
   },
   "outputs": [
    {
     "name": "stdout",
     "output_type": "stream",
     "text": [
      "============================================================\n",
      "buying\n",
      "[4. 3. 2. 1.]\n",
      "============================================================\n",
      "============================================================\n",
      "maint\n",
      "[4. 3. 2. 1.]\n",
      "============================================================\n",
      "============================================================\n",
      "doors\n",
      "['2' '3' '4' '5more']\n",
      "============================================================\n",
      "============================================================\n",
      "persons\n",
      "['2' '4' 'more']\n",
      "============================================================\n",
      "============================================================\n",
      "lug_boot\n",
      "[0. 1. 2.]\n",
      "============================================================\n",
      "============================================================\n",
      "safety\n",
      "[2. 3. 1.]\n",
      "============================================================\n",
      "============================================================\n",
      "category\n",
      "['unacc' 'acc' 'vgood' 'good']\n",
      "============================================================\n"
     ]
    }
   ],
   "source": [
    "colunas = dados.columns\n",
    "for col in colunas:\n",
    "  print('='*60)\n",
    "  print(col)\n",
    "  print(dados[col].unique())\n",
    "  print('='*60)"
   ]
  },
  {
   "cell_type": "markdown",
   "metadata": {
    "id": "aP6kTXKparu6"
   },
   "source": [
    "Vamos aplicar o One Hot encoding nas colunas `doors` e `persons`:"
   ]
  },
  {
   "cell_type": "code",
   "execution_count": 11,
   "metadata": {
    "colab": {
     "base_uri": "https://localhost:8080/"
    },
    "id": "d8uDr0WL43s1",
    "outputId": "4f1b230a-9f4c-4453-ce55-4c5feb8f002e"
   },
   "outputs": [
    {
     "data": {
      "text/html": [
       "<div>\n",
       "<style scoped>\n",
       "    .dataframe tbody tr th:only-of-type {\n",
       "        vertical-align: middle;\n",
       "    }\n",
       "\n",
       "    .dataframe tbody tr th {\n",
       "        vertical-align: top;\n",
       "    }\n",
       "\n",
       "    .dataframe thead th {\n",
       "        text-align: right;\n",
       "    }\n",
       "</style>\n",
       "<table border=\"1\" class=\"dataframe\">\n",
       "  <thead>\n",
       "    <tr style=\"text-align: right;\">\n",
       "      <th></th>\n",
       "      <th>doors_2</th>\n",
       "      <th>doors_3</th>\n",
       "      <th>doors_4</th>\n",
       "      <th>doors_5more</th>\n",
       "    </tr>\n",
       "  </thead>\n",
       "  <tbody>\n",
       "    <tr>\n",
       "      <th>0</th>\n",
       "      <td>1</td>\n",
       "      <td>0</td>\n",
       "      <td>0</td>\n",
       "      <td>0</td>\n",
       "    </tr>\n",
       "    <tr>\n",
       "      <th>1</th>\n",
       "      <td>1</td>\n",
       "      <td>0</td>\n",
       "      <td>0</td>\n",
       "      <td>0</td>\n",
       "    </tr>\n",
       "    <tr>\n",
       "      <th>2</th>\n",
       "      <td>1</td>\n",
       "      <td>0</td>\n",
       "      <td>0</td>\n",
       "      <td>0</td>\n",
       "    </tr>\n",
       "    <tr>\n",
       "      <th>3</th>\n",
       "      <td>1</td>\n",
       "      <td>0</td>\n",
       "      <td>0</td>\n",
       "      <td>0</td>\n",
       "    </tr>\n",
       "    <tr>\n",
       "      <th>4</th>\n",
       "      <td>1</td>\n",
       "      <td>0</td>\n",
       "      <td>0</td>\n",
       "      <td>0</td>\n",
       "    </tr>\n",
       "  </tbody>\n",
       "</table>\n",
       "</div>"
      ],
      "text/plain": [
       "   doors_2  doors_3  doors_4  doors_5more\n",
       "0        1        0        0            0\n",
       "1        1        0        0            0\n",
       "2        1        0        0            0\n",
       "3        1        0        0            0\n",
       "4        1        0        0            0"
      ]
     },
     "execution_count": 11,
     "metadata": {},
     "output_type": "execute_result"
    }
   ],
   "source": [
    "one_hot_doors = pd.get_dummies(dados['doors'], prefix='doors', dtype=int)\n",
    "one_hot_doors.head()"
   ]
  },
  {
   "cell_type": "code",
   "execution_count": 12,
   "metadata": {
    "colab": {
     "base_uri": "https://localhost:8080/"
    },
    "id": "tKyMq9CWrujQ",
    "outputId": "c8f9ce57-880c-4121-81ef-f3366f5c2ff7"
   },
   "outputs": [
    {
     "data": {
      "text/html": [
       "<div>\n",
       "<style scoped>\n",
       "    .dataframe tbody tr th:only-of-type {\n",
       "        vertical-align: middle;\n",
       "    }\n",
       "\n",
       "    .dataframe tbody tr th {\n",
       "        vertical-align: top;\n",
       "    }\n",
       "\n",
       "    .dataframe thead th {\n",
       "        text-align: right;\n",
       "    }\n",
       "</style>\n",
       "<table border=\"1\" class=\"dataframe\">\n",
       "  <thead>\n",
       "    <tr style=\"text-align: right;\">\n",
       "      <th></th>\n",
       "      <th>persons_2</th>\n",
       "      <th>persons_4</th>\n",
       "      <th>persons_more</th>\n",
       "    </tr>\n",
       "  </thead>\n",
       "  <tbody>\n",
       "    <tr>\n",
       "      <th>0</th>\n",
       "      <td>1</td>\n",
       "      <td>0</td>\n",
       "      <td>0</td>\n",
       "    </tr>\n",
       "    <tr>\n",
       "      <th>1</th>\n",
       "      <td>1</td>\n",
       "      <td>0</td>\n",
       "      <td>0</td>\n",
       "    </tr>\n",
       "    <tr>\n",
       "      <th>2</th>\n",
       "      <td>1</td>\n",
       "      <td>0</td>\n",
       "      <td>0</td>\n",
       "    </tr>\n",
       "    <tr>\n",
       "      <th>3</th>\n",
       "      <td>1</td>\n",
       "      <td>0</td>\n",
       "      <td>0</td>\n",
       "    </tr>\n",
       "    <tr>\n",
       "      <th>4</th>\n",
       "      <td>1</td>\n",
       "      <td>0</td>\n",
       "      <td>0</td>\n",
       "    </tr>\n",
       "  </tbody>\n",
       "</table>\n",
       "</div>"
      ],
      "text/plain": [
       "   persons_2  persons_4  persons_more\n",
       "0          1          0             0\n",
       "1          1          0             0\n",
       "2          1          0             0\n",
       "3          1          0             0\n",
       "4          1          0             0"
      ]
     },
     "execution_count": 12,
     "metadata": {},
     "output_type": "execute_result"
    }
   ],
   "source": [
    "one_hot_persons = pd.get_dummies(dados['persons'], prefix='persons', dtype=int)\n",
    "one_hot_persons.head()"
   ]
  },
  {
   "cell_type": "code",
   "execution_count": 13,
   "metadata": {
    "colab": {
     "base_uri": "https://localhost:8080/"
    },
    "id": "D6hNylxr5Lm0",
    "outputId": "2d5ed268-b755-40bf-d367-97ebdcab5001"
   },
   "outputs": [
    {
     "data": {
      "text/html": [
       "<div>\n",
       "<style scoped>\n",
       "    .dataframe tbody tr th:only-of-type {\n",
       "        vertical-align: middle;\n",
       "    }\n",
       "\n",
       "    .dataframe tbody tr th {\n",
       "        vertical-align: top;\n",
       "    }\n",
       "\n",
       "    .dataframe thead th {\n",
       "        text-align: right;\n",
       "    }\n",
       "</style>\n",
       "<table border=\"1\" class=\"dataframe\">\n",
       "  <thead>\n",
       "    <tr style=\"text-align: right;\">\n",
       "      <th></th>\n",
       "      <th>buying</th>\n",
       "      <th>maint</th>\n",
       "      <th>doors</th>\n",
       "      <th>persons</th>\n",
       "      <th>lug_boot</th>\n",
       "      <th>safety</th>\n",
       "      <th>category</th>\n",
       "      <th>doors_2</th>\n",
       "      <th>doors_3</th>\n",
       "      <th>doors_4</th>\n",
       "      <th>doors_5more</th>\n",
       "      <th>persons_2</th>\n",
       "      <th>persons_4</th>\n",
       "      <th>persons_more</th>\n",
       "    </tr>\n",
       "  </thead>\n",
       "  <tbody>\n",
       "    <tr>\n",
       "      <th>0</th>\n",
       "      <td>4.0</td>\n",
       "      <td>4.0</td>\n",
       "      <td>2</td>\n",
       "      <td>2</td>\n",
       "      <td>0.0</td>\n",
       "      <td>2.0</td>\n",
       "      <td>unacc</td>\n",
       "      <td>1</td>\n",
       "      <td>0</td>\n",
       "      <td>0</td>\n",
       "      <td>0</td>\n",
       "      <td>1</td>\n",
       "      <td>0</td>\n",
       "      <td>0</td>\n",
       "    </tr>\n",
       "    <tr>\n",
       "      <th>1</th>\n",
       "      <td>4.0</td>\n",
       "      <td>4.0</td>\n",
       "      <td>2</td>\n",
       "      <td>2</td>\n",
       "      <td>0.0</td>\n",
       "      <td>3.0</td>\n",
       "      <td>unacc</td>\n",
       "      <td>1</td>\n",
       "      <td>0</td>\n",
       "      <td>0</td>\n",
       "      <td>0</td>\n",
       "      <td>1</td>\n",
       "      <td>0</td>\n",
       "      <td>0</td>\n",
       "    </tr>\n",
       "    <tr>\n",
       "      <th>2</th>\n",
       "      <td>4.0</td>\n",
       "      <td>4.0</td>\n",
       "      <td>2</td>\n",
       "      <td>2</td>\n",
       "      <td>1.0</td>\n",
       "      <td>1.0</td>\n",
       "      <td>unacc</td>\n",
       "      <td>1</td>\n",
       "      <td>0</td>\n",
       "      <td>0</td>\n",
       "      <td>0</td>\n",
       "      <td>1</td>\n",
       "      <td>0</td>\n",
       "      <td>0</td>\n",
       "    </tr>\n",
       "    <tr>\n",
       "      <th>3</th>\n",
       "      <td>4.0</td>\n",
       "      <td>4.0</td>\n",
       "      <td>2</td>\n",
       "      <td>2</td>\n",
       "      <td>1.0</td>\n",
       "      <td>2.0</td>\n",
       "      <td>unacc</td>\n",
       "      <td>1</td>\n",
       "      <td>0</td>\n",
       "      <td>0</td>\n",
       "      <td>0</td>\n",
       "      <td>1</td>\n",
       "      <td>0</td>\n",
       "      <td>0</td>\n",
       "    </tr>\n",
       "    <tr>\n",
       "      <th>4</th>\n",
       "      <td>4.0</td>\n",
       "      <td>4.0</td>\n",
       "      <td>2</td>\n",
       "      <td>2</td>\n",
       "      <td>1.0</td>\n",
       "      <td>3.0</td>\n",
       "      <td>unacc</td>\n",
       "      <td>1</td>\n",
       "      <td>0</td>\n",
       "      <td>0</td>\n",
       "      <td>0</td>\n",
       "      <td>1</td>\n",
       "      <td>0</td>\n",
       "      <td>0</td>\n",
       "    </tr>\n",
       "  </tbody>\n",
       "</table>\n",
       "</div>"
      ],
      "text/plain": [
       "   buying  maint doors persons  lug_boot  safety category  doors_2  doors_3  \\\n",
       "0     4.0    4.0     2       2       0.0     2.0    unacc        1        0   \n",
       "1     4.0    4.0     2       2       0.0     3.0    unacc        1        0   \n",
       "2     4.0    4.0     2       2       1.0     1.0    unacc        1        0   \n",
       "3     4.0    4.0     2       2       1.0     2.0    unacc        1        0   \n",
       "4     4.0    4.0     2       2       1.0     3.0    unacc        1        0   \n",
       "\n",
       "   doors_4  doors_5more  persons_2  persons_4  persons_more  \n",
       "0        0            0          1          0             0  \n",
       "1        0            0          1          0             0  \n",
       "2        0            0          1          0             0  \n",
       "3        0            0          1          0             0  \n",
       "4        0            0          1          0             0  "
      ]
     },
     "execution_count": 13,
     "metadata": {},
     "output_type": "execute_result"
    }
   ],
   "source": [
    "dados = pd.concat([dados, one_hot_doors, one_hot_persons], axis =1)\n",
    "dados.head()"
   ]
  },
  {
   "cell_type": "markdown",
   "metadata": {
    "id": "GoX-iBqRa8-K"
   },
   "source": [
    "Agora vamos fazer um drop nas colunas originais com valores do tipo object:"
   ]
  },
  {
   "cell_type": "code",
   "execution_count": 14,
   "metadata": {
    "id": "X86q9jDCbCpL"
   },
   "outputs": [],
   "source": [
    "dados.drop(columns=['doors','persons'], inplace = True)"
   ]
  },
  {
   "cell_type": "code",
   "execution_count": 15,
   "metadata": {
    "colab": {
     "base_uri": "https://localhost:8080/"
    },
    "id": "GBN0R-WqbKY7",
    "outputId": "d4d43a36-c185-4ea2-fe31-47ae925a50a9"
   },
   "outputs": [
    {
     "data": {
      "text/html": [
       "<div>\n",
       "<style scoped>\n",
       "    .dataframe tbody tr th:only-of-type {\n",
       "        vertical-align: middle;\n",
       "    }\n",
       "\n",
       "    .dataframe tbody tr th {\n",
       "        vertical-align: top;\n",
       "    }\n",
       "\n",
       "    .dataframe thead th {\n",
       "        text-align: right;\n",
       "    }\n",
       "</style>\n",
       "<table border=\"1\" class=\"dataframe\">\n",
       "  <thead>\n",
       "    <tr style=\"text-align: right;\">\n",
       "      <th></th>\n",
       "      <th>buying</th>\n",
       "      <th>maint</th>\n",
       "      <th>lug_boot</th>\n",
       "      <th>safety</th>\n",
       "      <th>category</th>\n",
       "      <th>doors_2</th>\n",
       "      <th>doors_3</th>\n",
       "      <th>doors_4</th>\n",
       "      <th>doors_5more</th>\n",
       "      <th>persons_2</th>\n",
       "      <th>persons_4</th>\n",
       "      <th>persons_more</th>\n",
       "    </tr>\n",
       "  </thead>\n",
       "  <tbody>\n",
       "    <tr>\n",
       "      <th>0</th>\n",
       "      <td>4.0</td>\n",
       "      <td>4.0</td>\n",
       "      <td>0.0</td>\n",
       "      <td>2.0</td>\n",
       "      <td>unacc</td>\n",
       "      <td>1</td>\n",
       "      <td>0</td>\n",
       "      <td>0</td>\n",
       "      <td>0</td>\n",
       "      <td>1</td>\n",
       "      <td>0</td>\n",
       "      <td>0</td>\n",
       "    </tr>\n",
       "    <tr>\n",
       "      <th>1</th>\n",
       "      <td>4.0</td>\n",
       "      <td>4.0</td>\n",
       "      <td>0.0</td>\n",
       "      <td>3.0</td>\n",
       "      <td>unacc</td>\n",
       "      <td>1</td>\n",
       "      <td>0</td>\n",
       "      <td>0</td>\n",
       "      <td>0</td>\n",
       "      <td>1</td>\n",
       "      <td>0</td>\n",
       "      <td>0</td>\n",
       "    </tr>\n",
       "    <tr>\n",
       "      <th>2</th>\n",
       "      <td>4.0</td>\n",
       "      <td>4.0</td>\n",
       "      <td>1.0</td>\n",
       "      <td>1.0</td>\n",
       "      <td>unacc</td>\n",
       "      <td>1</td>\n",
       "      <td>0</td>\n",
       "      <td>0</td>\n",
       "      <td>0</td>\n",
       "      <td>1</td>\n",
       "      <td>0</td>\n",
       "      <td>0</td>\n",
       "    </tr>\n",
       "    <tr>\n",
       "      <th>3</th>\n",
       "      <td>4.0</td>\n",
       "      <td>4.0</td>\n",
       "      <td>1.0</td>\n",
       "      <td>2.0</td>\n",
       "      <td>unacc</td>\n",
       "      <td>1</td>\n",
       "      <td>0</td>\n",
       "      <td>0</td>\n",
       "      <td>0</td>\n",
       "      <td>1</td>\n",
       "      <td>0</td>\n",
       "      <td>0</td>\n",
       "    </tr>\n",
       "    <tr>\n",
       "      <th>4</th>\n",
       "      <td>4.0</td>\n",
       "      <td>4.0</td>\n",
       "      <td>1.0</td>\n",
       "      <td>3.0</td>\n",
       "      <td>unacc</td>\n",
       "      <td>1</td>\n",
       "      <td>0</td>\n",
       "      <td>0</td>\n",
       "      <td>0</td>\n",
       "      <td>1</td>\n",
       "      <td>0</td>\n",
       "      <td>0</td>\n",
       "    </tr>\n",
       "  </tbody>\n",
       "</table>\n",
       "</div>"
      ],
      "text/plain": [
       "   buying  maint  lug_boot  safety category  doors_2  doors_3  doors_4  \\\n",
       "0     4.0    4.0       0.0     2.0    unacc        1        0        0   \n",
       "1     4.0    4.0       0.0     3.0    unacc        1        0        0   \n",
       "2     4.0    4.0       1.0     1.0    unacc        1        0        0   \n",
       "3     4.0    4.0       1.0     2.0    unacc        1        0        0   \n",
       "4     4.0    4.0       1.0     3.0    unacc        1        0        0   \n",
       "\n",
       "   doors_5more  persons_2  persons_4  persons_more  \n",
       "0            0          1          0             0  \n",
       "1            0          1          0             0  \n",
       "2            0          1          0             0  \n",
       "3            0          1          0             0  \n",
       "4            0          1          0             0  "
      ]
     },
     "execution_count": 15,
     "metadata": {},
     "output_type": "execute_result"
    }
   ],
   "source": [
    "dados.head()"
   ]
  },
  {
   "cell_type": "markdown",
   "metadata": {
    "id": "pHvA5QEtmVRP"
   },
   "source": [
    "# Aplicando IA aos nossos dados"
   ]
  },
  {
   "cell_type": "markdown",
   "metadata": {
    "id": "4r91qIhHbkqV"
   },
   "source": [
    "## Tarefa #1: Dividindo o conjunto de dados (Entrada/Saída e Treinamento/Teste)"
   ]
  },
  {
   "cell_type": "code",
   "execution_count": 16,
   "metadata": {
    "id": "aeAyOnmJxJ36"
   },
   "outputs": [],
   "source": [
    "# Separando os dados de entrada e de saída\n",
    "X = dados.drop(columns=['category'])\n",
    "y = dados[\"category\"] #Rótulos/Labels\n",
    "\n",
    "# Dividindo os dados no conjunto de teste e treinamento\n",
    "X_train, X_test, y_train, y_test = train_test_split(X,\n",
    "                                                    y,\n",
    "                                                    test_size=0.2,\n",
    "                                                    random_state=25)"
   ]
  },
  {
   "cell_type": "code",
   "execution_count": 17,
   "metadata": {},
   "outputs": [
    {
     "data": {
      "text/html": [
       "<div>\n",
       "<style scoped>\n",
       "    .dataframe tbody tr th:only-of-type {\n",
       "        vertical-align: middle;\n",
       "    }\n",
       "\n",
       "    .dataframe tbody tr th {\n",
       "        vertical-align: top;\n",
       "    }\n",
       "\n",
       "    .dataframe thead th {\n",
       "        text-align: right;\n",
       "    }\n",
       "</style>\n",
       "<table border=\"1\" class=\"dataframe\">\n",
       "  <thead>\n",
       "    <tr style=\"text-align: right;\">\n",
       "      <th></th>\n",
       "      <th>buying</th>\n",
       "      <th>maint</th>\n",
       "      <th>lug_boot</th>\n",
       "      <th>safety</th>\n",
       "      <th>doors_2</th>\n",
       "      <th>doors_3</th>\n",
       "      <th>doors_4</th>\n",
       "      <th>doors_5more</th>\n",
       "      <th>persons_2</th>\n",
       "      <th>persons_4</th>\n",
       "      <th>persons_more</th>\n",
       "    </tr>\n",
       "  </thead>\n",
       "  <tbody>\n",
       "    <tr>\n",
       "      <th>0</th>\n",
       "      <td>4.0</td>\n",
       "      <td>4.0</td>\n",
       "      <td>0.0</td>\n",
       "      <td>2.0</td>\n",
       "      <td>1</td>\n",
       "      <td>0</td>\n",
       "      <td>0</td>\n",
       "      <td>0</td>\n",
       "      <td>1</td>\n",
       "      <td>0</td>\n",
       "      <td>0</td>\n",
       "    </tr>\n",
       "    <tr>\n",
       "      <th>1</th>\n",
       "      <td>4.0</td>\n",
       "      <td>4.0</td>\n",
       "      <td>0.0</td>\n",
       "      <td>3.0</td>\n",
       "      <td>1</td>\n",
       "      <td>0</td>\n",
       "      <td>0</td>\n",
       "      <td>0</td>\n",
       "      <td>1</td>\n",
       "      <td>0</td>\n",
       "      <td>0</td>\n",
       "    </tr>\n",
       "    <tr>\n",
       "      <th>2</th>\n",
       "      <td>4.0</td>\n",
       "      <td>4.0</td>\n",
       "      <td>1.0</td>\n",
       "      <td>1.0</td>\n",
       "      <td>1</td>\n",
       "      <td>0</td>\n",
       "      <td>0</td>\n",
       "      <td>0</td>\n",
       "      <td>1</td>\n",
       "      <td>0</td>\n",
       "      <td>0</td>\n",
       "    </tr>\n",
       "    <tr>\n",
       "      <th>3</th>\n",
       "      <td>4.0</td>\n",
       "      <td>4.0</td>\n",
       "      <td>1.0</td>\n",
       "      <td>2.0</td>\n",
       "      <td>1</td>\n",
       "      <td>0</td>\n",
       "      <td>0</td>\n",
       "      <td>0</td>\n",
       "      <td>1</td>\n",
       "      <td>0</td>\n",
       "      <td>0</td>\n",
       "    </tr>\n",
       "    <tr>\n",
       "      <th>4</th>\n",
       "      <td>4.0</td>\n",
       "      <td>4.0</td>\n",
       "      <td>1.0</td>\n",
       "      <td>3.0</td>\n",
       "      <td>1</td>\n",
       "      <td>0</td>\n",
       "      <td>0</td>\n",
       "      <td>0</td>\n",
       "      <td>1</td>\n",
       "      <td>0</td>\n",
       "      <td>0</td>\n",
       "    </tr>\n",
       "  </tbody>\n",
       "</table>\n",
       "</div>"
      ],
      "text/plain": [
       "   buying  maint  lug_boot  safety  doors_2  doors_3  doors_4  doors_5more  \\\n",
       "0     4.0    4.0       0.0     2.0        1        0        0            0   \n",
       "1     4.0    4.0       0.0     3.0        1        0        0            0   \n",
       "2     4.0    4.0       1.0     1.0        1        0        0            0   \n",
       "3     4.0    4.0       1.0     2.0        1        0        0            0   \n",
       "4     4.0    4.0       1.0     3.0        1        0        0            0   \n",
       "\n",
       "   persons_2  persons_4  persons_more  \n",
       "0          1          0             0  \n",
       "1          1          0             0  \n",
       "2          1          0             0  \n",
       "3          1          0             0  \n",
       "4          1          0             0  "
      ]
     },
     "execution_count": 17,
     "metadata": {},
     "output_type": "execute_result"
    }
   ],
   "source": [
    "X.head()"
   ]
  },
  {
   "cell_type": "markdown",
   "metadata": {
    "id": "k8Kb9tBGb3s1"
   },
   "source": [
    "## Tarefa #2: Treinando os modelos"
   ]
  },
  {
   "cell_type": "code",
   "execution_count": 18,
   "metadata": {
    "colab": {
     "base_uri": "https://localhost:8080/"
    },
    "id": "IFWJhTL_cA0D",
    "outputId": "1521014c-9258-43f2-81f2-488420982644"
   },
   "outputs": [
    {
     "name": "stderr",
     "output_type": "stream",
     "text": [
      "/home/miguel/miniconda3/envs/ia_ads/lib/python3.13/site-packages/sklearn/discriminant_analysis.py:1024: LinAlgWarning: The covariance matrix of class 0 is not full rank. Increasing the value of parameter `reg_param` might help reducing the collinearity.\n",
      "  warnings.warn(\n",
      "/home/miguel/miniconda3/envs/ia_ads/lib/python3.13/site-packages/sklearn/discriminant_analysis.py:1024: LinAlgWarning: The covariance matrix of class 1 is not full rank. Increasing the value of parameter `reg_param` might help reducing the collinearity.\n",
      "  warnings.warn(\n",
      "/home/miguel/miniconda3/envs/ia_ads/lib/python3.13/site-packages/sklearn/discriminant_analysis.py:1024: LinAlgWarning: The covariance matrix of class 2 is not full rank. Increasing the value of parameter `reg_param` might help reducing the collinearity.\n",
      "  warnings.warn(\n",
      "/home/miguel/miniconda3/envs/ia_ads/lib/python3.13/site-packages/sklearn/discriminant_analysis.py:1024: LinAlgWarning: The covariance matrix of class 3 is not full rank. Increasing the value of parameter `reg_param` might help reducing the collinearity.\n",
      "  warnings.warn(\n"
     ]
    }
   ],
   "source": [
    "modelos = {'Gaussiano' : GaussianNB(),\n",
    "           'LDA' : LinearDiscriminantAnalysis(),\n",
    "           'QDA' : QuadraticDiscriminantAnalysis(),\n",
    "           'SVM' : SVC(kernel='rbf')}\n",
    "y_pred = {}\n",
    "for nome_modelo, modelo in modelos.items():\n",
    "  # Treinar o modelo:\n",
    "  modelo.fit(X_train, y_train)\n",
    "  y_pred[nome_modelo] = modelo.predict(X_test)"
   ]
  },
  {
   "cell_type": "markdown",
   "metadata": {
    "id": "kPuSUCs4cwEj"
   },
   "source": [
    "## Tarefa #3: Métricas de desempenho do modelo"
   ]
  },
  {
   "cell_type": "markdown",
   "metadata": {
    "id": "LCG0xzTKfVpd"
   },
   "source": [
    "Obtendo as matrizes de confusão:"
   ]
  },
  {
   "cell_type": "code",
   "execution_count": 19,
   "metadata": {
    "colab": {
     "base_uri": "https://localhost:8080/"
    },
    "id": "fZQaX4zDfQVt",
    "outputId": "fad80e91-6ce8-44d2-e800-d827fbc5c214"
   },
   "outputs": [
    {
     "data": {
      "text/plain": [
       "array(['good', 'vgood', 'unacc', 'acc'], dtype=object)"
      ]
     },
     "execution_count": 19,
     "metadata": {},
     "output_type": "execute_result"
    }
   ],
   "source": [
    "y_test.unique()"
   ]
  },
  {
   "cell_type": "code",
   "execution_count": 20,
   "metadata": {
    "colab": {
     "base_uri": "https://localhost:8080/",
     "height": 606
    },
    "id": "rww3Xf-1fICN",
    "outputId": "17d450e1-687b-4ac4-9372-ce808ffad64a"
   },
   "outputs": [
    {
     "data": {
      "image/png": "[encoded data removed]",
      "text/plain": [
       "<Figure size 2500x1000 with 8 Axes>"
      ]
     },
     "metadata": {},
     "output_type": "display_data"
    }
   ],
   "source": [
    "figure = plt.figure(figsize=(25,10))\n",
    "for i, (nome_modelo, y_p) in enumerate(y_pred.items()):\n",
    "  cm = confusion_matrix(y_true=y_test,\n",
    "                        y_pred=y_p,\n",
    "                        labels=['unacc',\n",
    "                                'acc',\n",
    "                                'good',\n",
    "                                'vgood'])\n",
    "  disp = ConfusionMatrixDisplay(confusion_matrix=cm,\n",
    "                                display_labels=['inaceitavel',\n",
    "                                                'aceitável',\n",
    "                                                'bom',\n",
    "                                                'muito bom'])\n",
    "  ax = plt.subplot(2,2,i+1)\n",
    "  disp.plot(ax=ax)\n",
    "  ax.set_title(nome_modelo)"
   ]
  },
  {
   "cell_type": "markdown",
   "metadata": {
    "id": "pMMmAsgKfYNt"
   },
   "source": [
    "Obtendo as métricas:"
   ]
  },
  {
   "cell_type": "code",
   "execution_count": 21,
   "metadata": {
    "colab": {
     "base_uri": "https://localhost:8080/"
    },
    "id": "IepvvwQLhcTm",
    "outputId": "f45c3260-27bb-4062-db21-dd412de59626"
   },
   "outputs": [
    {
     "name": "stdout",
     "output_type": "stream",
     "text": [
      "Métricas do modelo: Gaussiano\n",
      "              precision    recall  f1-score   support\n",
      "\n",
      "         acc       0.52      0.43      0.47       248\n",
      "        good       0.71      0.53      0.60       241\n",
      "       unacc       1.00      0.45      0.62       229\n",
      "       vgood       0.50      1.00      0.66       225\n",
      "\n",
      "    accuracy                           0.59       943\n",
      "   macro avg       0.68      0.60      0.59       943\n",
      "weighted avg       0.68      0.59      0.59       943\n",
      "\n",
      "-----------------------------------------------------\n",
      "Métricas do modelo: LDA\n",
      "              precision    recall  f1-score   support\n",
      "\n",
      "         acc       0.82      0.84      0.83       248\n",
      "        good       0.83      0.93      0.88       241\n",
      "       unacc       1.00      0.72      0.84       229\n",
      "       vgood       0.86      0.96      0.91       225\n",
      "\n",
      "    accuracy                           0.87       943\n",
      "   macro avg       0.88      0.87      0.86       943\n",
      "weighted avg       0.88      0.87      0.86       943\n",
      "\n",
      "-----------------------------------------------------\n",
      "Métricas do modelo: QDA\n",
      "              precision    recall  f1-score   support\n",
      "\n",
      "         acc       0.00      0.00      0.00       248\n",
      "        good       0.00      0.00      0.00       241\n",
      "       unacc       0.25      1.00      0.40       229\n",
      "       vgood       0.73      0.05      0.09       225\n",
      "\n",
      "    accuracy                           0.25       943\n",
      "   macro avg       0.25      0.26      0.12       943\n",
      "weighted avg       0.23      0.25      0.12       943\n",
      "\n",
      "-----------------------------------------------------\n",
      "Métricas do modelo: SVM\n",
      "              precision    recall  f1-score   support\n",
      "\n",
      "         acc       0.89      0.94      0.92       248\n",
      "        good       0.93      1.00      0.97       241\n",
      "       unacc       1.00      0.87      0.93       229\n",
      "       vgood       1.00      1.00      1.00       225\n",
      "\n",
      "    accuracy                           0.95       943\n",
      "   macro avg       0.96      0.95      0.95       943\n",
      "weighted avg       0.95      0.95      0.95       943\n",
      "\n",
      "-----------------------------------------------------\n"
     ]
    },
    {
     "name": "stderr",
     "output_type": "stream",
     "text": [
      "/home/miguel/miniconda3/envs/ia_ads/lib/python3.13/site-packages/sklearn/metrics/_classification.py:1731: UndefinedMetricWarning: Precision is ill-defined and being set to 0.0 in labels with no predicted samples. Use `zero_division` parameter to control this behavior.\n",
      "  _warn_prf(average, modifier, f\"{metric.capitalize()} is\", result.shape[0])\n",
      "/home/miguel/miniconda3/envs/ia_ads/lib/python3.13/site-packages/sklearn/metrics/_classification.py:1731: UndefinedMetricWarning: Precision is ill-defined and being set to 0.0 in labels with no predicted samples. Use `zero_division` parameter to control this behavior.\n",
      "  _warn_prf(average, modifier, f\"{metric.capitalize()} is\", result.shape[0])\n",
      "/home/miguel/miniconda3/envs/ia_ads/lib/python3.13/site-packages/sklearn/metrics/_classification.py:1731: UndefinedMetricWarning: Precision is ill-defined and being set to 0.0 in labels with no predicted samples. Use `zero_division` parameter to control this behavior.\n",
      "  _warn_prf(average, modifier, f\"{metric.capitalize()} is\", result.shape[0])\n"
     ]
    }
   ],
   "source": [
    "for nome_modelo, y_p in y_pred.items():\n",
    "  print(f\"Métricas do modelo: {nome_modelo}\")\n",
    "  print(classification_report(y_true=y_test,\n",
    "                              y_pred=y_p))\n",
    "  print('-'*53)"
   ]
  },
  {
   "cell_type": "markdown",
   "metadata": {
    "id": "jJzW6AFBhk-u"
   },
   "source": [
    "Podemos perceber que o modelo do SVC foi o que obteve o melhor desempenho nesse cenário. Além disso, o QDA encontrou problemas devido as ferramentas matemáticas que ele usa foram problematicas para os atributos do problema."
   ]
  },
  {
   "cell_type": "markdown",
   "metadata": {
    "id": "hAlP72Zb3RZd"
   },
   "source": [
    "# Salvando os modelos e pré-processamento"
   ]
  },
  {
   "cell_type": "markdown",
   "metadata": {
    "id": "cveqV7HW3irU"
   },
   "source": [
    "## Salvando os dados escalados"
   ]
  },
  {
   "cell_type": "code",
   "execution_count": 22,
   "metadata": {
    "id": "Emd1kXpS3U9M"
   },
   "outputs": [],
   "source": [
    "# Separando os dados de entrada e de saída\n",
    "X = dados.drop(columns=['category'])\n",
    "y = dados[\"category\"] #Rótulos/Labels\n",
    "\n",
    "# Dividindo os dados no conjunto de teste e treinamento\n",
    "X_train, X_test, y_train, y_test = train_test_split(X,\n",
    "                                                    y,\n",
    "                                                    test_size=0.2,\n",
    "                                                    random_state=25)\n",
    "# Padronizar os dados\n",
    "scaler = StandardScaler()\n",
    "scaler.fit(X_train)\n",
    "X_train = scaler.transform(X_train)\n",
    "X_test = scaler.transform(X_test)"
   ]
  },
  {
   "cell_type": "code",
   "execution_count": 23,
   "metadata": {
    "colab": {
     "base_uri": "https://localhost:8080/"
    },
    "id": "eCJNvfYB4qNl",
    "outputId": "2d0d78a1-2e07-4793-c7dd-9fe5e329d115"
   },
   "outputs": [
    {
     "data": {
      "text/plain": [
       "['scaler.pkl']"
      ]
     },
     "execution_count": 23,
     "metadata": {},
     "output_type": "execute_result"
    }
   ],
   "source": [
    "import joblib\n",
    "# Salvando um arquivo .pkl com o objeto scaler\n",
    "joblib.dump(scaler, \"scaler.pkl\")"
   ]
  },
  {
   "cell_type": "code",
   "execution_count": 24,
   "metadata": {
    "id": "Ppbi5RM76B9c"
   },
   "outputs": [],
   "source": [
    "dado = pd.DataFrame({'buying' : [4],\n",
    "                    'maint' : [4],\n",
    "                    'lug_boot': [0],\n",
    "                    'safety' : [3],\n",
    "                    'doors_2' : [1],\n",
    "                    'doors_3' : [0],\n",
    "                    'doors_4' : [0],\n",
    "                    'doors_5more' : [0],\n",
    "                    'persons_2' : [0],\n",
    "                    'persons_4' : [1],\n",
    "                    'persons_more' : [0]})"
   ]
  },
  {
   "cell_type": "code",
   "execution_count": 25,
   "metadata": {
    "colab": {
     "base_uri": "https://localhost:8080/"
    },
    "id": "c62oLTot5lcN",
    "outputId": "f2ac6a64-0146-4f64-a3ac-98bc9de153d5"
   },
   "outputs": [
    {
     "data": {
      "text/plain": [
       "array([[ 2.00192854,  1.91619555, -1.48173793,  0.82980119,  1.92156277,\n",
       "        -0.5896096 , -0.60310453, -0.59615072, -0.37151684,  1.11244312,\n",
       "        -0.87173693]])"
      ]
     },
     "execution_count": 25,
     "metadata": {},
     "output_type": "execute_result"
    }
   ],
   "source": [
    "scaler_carregado = joblib.load(\"scaler.pkl\")\n",
    "dado_user = scaler_carregado.transform(dado)\n",
    "dado_user"
   ]
  },
  {
   "cell_type": "markdown",
   "metadata": {
    "id": "12bp0n2O7yWu"
   },
   "source": [
    "## Salvando o melhor modelo:"
   ]
  },
  {
   "cell_type": "code",
   "execution_count": 26,
   "metadata": {
    "colab": {
     "base_uri": "https://localhost:8080/"
    },
    "id": "y7GG-07X72lM",
    "outputId": "4b19056c-bf6a-42bc-fcb1-4aba4604c7c7"
   },
   "outputs": [
    {
     "data": {
      "text/plain": [
       "['modelo_SVM.pkl']"
      ]
     },
     "execution_count": 26,
     "metadata": {},
     "output_type": "execute_result"
    }
   ],
   "source": [
    "modelo = SVC(kernel='rbf')\n",
    "modelo.fit(X_train, y_train)\n",
    "joblib.dump(modelo, \"modelo_SVM.pkl\")"
   ]
  },
  {
   "cell_type": "code",
   "execution_count": 27,
   "metadata": {
    "id": "QnLwyAHT9vr9"
   },
   "outputs": [],
   "source": [
    "modelo_carregado = joblib.load(\"modelo_SVM.pkl\")"
   ]
  },
  {
   "cell_type": "code",
   "execution_count": 28,
   "metadata": {
    "colab": {
     "base_uri": "https://localhost:8080/"
    },
    "id": "Plqcrzw4-LoV",
    "outputId": "d93e9796-1319-426f-cc4f-edd650cdf935"
   },
   "outputs": [
    {
     "data": {
      "text/plain": [
       "'unacc'"
      ]
     },
     "execution_count": 28,
     "metadata": {},
     "output_type": "execute_result"
    }
   ],
   "source": [
    "modelo_carregado.predict(dado_user)[0]"
   ]
  }
 ],
 "metadata": {
  "colab": {
   "provenance": []
  },
  "kernelspec": {
   "display_name": "ia_ads",
   "language": "python",
   "name": "python3"
  },
  "language_info": {
   "codemirror_mode": {
    "name": "ipython",
    "version": 3
   },
   "file_extension": ".py",
   "mimetype": "text/x-python",
   "name": "python",
   "nbconvert_exporter": "python",
   "pygments_lexer": "ipython3",
   "version": "3.13.7"
  }
 },
 "nbformat": 4,
 "nbformat_minor": 4
}
